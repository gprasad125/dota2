{
  "nbformat": 4,
  "nbformat_minor": 0,
  "metadata": {
    "colab": {
      "name": "API_configuration.ipynb",
      "provenance": [],
      "collapsed_sections": [],
      "authorship_tag": "ABX9TyNnndfnp/TU/waPe57t/Noe",
      "include_colab_link": true
    },
    "kernelspec": {
      "name": "python3",
      "display_name": "Python 3"
    },
    "language_info": {
      "name": "python"
    }
  },
  "cells": [
    {
      "cell_type": "markdown",
      "metadata": {
        "id": "view-in-github",
        "colab_type": "text"
      },
      "source": [
        "<a href=\"https://colab.research.google.com/github/gprasad125/dota2/blob/main/API_configuration.ipynb\" target=\"_parent\"><img src=\"https://colab.research.google.com/assets/colab-badge.svg\" alt=\"Open In Colab\"/></a>"
      ]
    },
    {
      "cell_type": "code",
      "execution_count": 1,
      "metadata": {
        "colab": {
          "base_uri": "https://localhost:8080/"
        },
        "id": "kewnxw24wvxi",
        "outputId": "8bf3dfe4-1e77-4644-8ea2-703bdc3b63f7"
      },
      "outputs": [
        {
          "output_type": "stream",
          "name": "stdout",
          "text": [
            "Looking in indexes: https://pypi.org/simple, https://us-python.pkg.dev/colab-wheels/public/simple/\n",
            "Collecting pyopendota\n",
            "  Downloading pyopendota-0.2.1-py2.py3-none-any.whl (10 kB)\n",
            "Requirement already satisfied: requests in /usr/local/lib/python3.7/dist-packages (from pyopendota) (2.23.0)\n",
            "Collecting fire\n",
            "  Downloading fire-0.4.0.tar.gz (87 kB)\n",
            "\u001b[K     |████████████████████████████████| 87 kB 1.2 MB/s \n",
            "\u001b[?25hRequirement already satisfied: six in /usr/local/lib/python3.7/dist-packages (from fire->pyopendota) (1.15.0)\n",
            "Requirement already satisfied: termcolor in /usr/local/lib/python3.7/dist-packages (from fire->pyopendota) (1.1.0)\n",
            "Requirement already satisfied: idna<3,>=2.5 in /usr/local/lib/python3.7/dist-packages (from requests->pyopendota) (2.10)\n",
            "Requirement already satisfied: urllib3!=1.25.0,!=1.25.1,<1.26,>=1.21.1 in /usr/local/lib/python3.7/dist-packages (from requests->pyopendota) (1.24.3)\n",
            "Requirement already satisfied: chardet<4,>=3.0.2 in /usr/local/lib/python3.7/dist-packages (from requests->pyopendota) (3.0.4)\n",
            "Requirement already satisfied: certifi>=2017.4.17 in /usr/local/lib/python3.7/dist-packages (from requests->pyopendota) (2022.6.15)\n",
            "Building wheels for collected packages: fire\n",
            "  Building wheel for fire (setup.py) ... \u001b[?25l\u001b[?25hdone\n",
            "  Created wheel for fire: filename=fire-0.4.0-py2.py3-none-any.whl size=115942 sha256=3245cb84d5e3a332eb0d03eb7821bf669a02567f84a4e2a0661a5829bfce9f34\n",
            "  Stored in directory: /root/.cache/pip/wheels/8a/67/fb/2e8a12fa16661b9d5af1f654bd199366799740a85c64981226\n",
            "Successfully built fire\n",
            "Installing collected packages: fire, pyopendota\n",
            "Successfully installed fire-0.4.0 pyopendota-0.2.1\n"
          ]
        }
      ],
      "source": [
        "!pip install pyopendota"
      ]
    },
    {
      "cell_type": "code",
      "source": [
        "import pandas as pd\n",
        "import numpy as np\n",
        "import opendota"
      ],
      "metadata": {
        "id": "onLYvGl0wyZn"
      },
      "execution_count": 2,
      "outputs": []
    },
    {
      "cell_type": "code",
      "source": [
        "client = opendota.OpenDota()"
      ],
      "metadata": {
        "id": "JcLQYOrLw4QX"
      },
      "execution_count": 3,
      "outputs": []
    },
    {
      "cell_type": "code",
      "source": [
        "matches_weu = client.get_league_matches(\"14279\")"
      ],
      "metadata": {
        "id": "G7Py_HAMw6uv"
      },
      "execution_count": 10,
      "outputs": []
    },
    {
      "cell_type": "code",
      "source": [
        "len(matches_weu)"
      ],
      "metadata": {
        "colab": {
          "base_uri": "https://localhost:8080/"
        },
        "id": "Yx2KeaitxfIu",
        "outputId": "42dc6c73-418f-4847-9e6b-df9f76af8e08"
      },
      "execution_count": 13,
      "outputs": [
        {
          "output_type": "execute_result",
          "data": {
            "text/plain": [
              "28"
            ]
          },
          "metadata": {},
          "execution_count": 13
        }
      ]
    },
    {
      "cell_type": "code",
      "source": [
        "matches_weu[0].keys()"
      ],
      "metadata": {
        "colab": {
          "base_uri": "https://localhost:8080/"
        },
        "id": "Bn187dIy0_d_",
        "outputId": "3b8e30c7-e7de-4daf-e100-f40eef0e1da0"
      },
      "execution_count": 14,
      "outputs": [
        {
          "output_type": "execute_result",
          "data": {
            "text/plain": [
              "dict_keys(['match_id', 'match_seq_num', 'radiant_win', 'start_time', 'duration', 'tower_status_radiant', 'tower_status_dire', 'barracks_status_radiant', 'barracks_status_dire', 'cluster', 'first_blood_time', 'lobby_type', 'human_players', 'leagueid', 'positive_votes', 'negative_votes', 'game_mode', 'engine', 'picks_bans', 'radiant_team_id', 'dire_team_id', 'radiant_team_name', 'dire_team_name', 'radiant_team_complete', 'dire_team_complete', 'radiant_captain', 'dire_captain', 'chat', 'objectives', 'radiant_gold_adv', 'radiant_xp_adv', 'teamfights', 'version', 'cosmetics', 'radiant_score', 'dire_score', 'draft_timings', 'series_id', 'series_type'])"
            ]
          },
          "metadata": {},
          "execution_count": 14
        }
      ]
    },
    {
      "cell_type": "code",
      "source": [
        "matches_weu[1].keys()"
      ],
      "metadata": {
        "colab": {
          "base_uri": "https://localhost:8080/"
        },
        "id": "kv0TK8l01LQX",
        "outputId": "92db9476-c016-45f6-88ed-5599ac34c173"
      },
      "execution_count": 15,
      "outputs": [
        {
          "output_type": "execute_result",
          "data": {
            "text/plain": [
              "dict_keys(['match_id', 'match_seq_num', 'radiant_win', 'start_time', 'duration', 'tower_status_radiant', 'tower_status_dire', 'barracks_status_radiant', 'barracks_status_dire', 'cluster', 'first_blood_time', 'lobby_type', 'human_players', 'leagueid', 'positive_votes', 'negative_votes', 'game_mode', 'engine', 'picks_bans', 'radiant_team_id', 'dire_team_id', 'radiant_team_name', 'dire_team_name', 'radiant_team_complete', 'dire_team_complete', 'radiant_captain', 'dire_captain', 'chat', 'objectives', 'radiant_gold_adv', 'radiant_xp_adv', 'teamfights', 'version', 'cosmetics', 'radiant_score', 'dire_score', 'draft_timings', 'series_id', 'series_type'])"
            ]
          },
          "metadata": {},
          "execution_count": 15
        }
      ]
    },
    {
      "cell_type": "code",
      "source": [
        "non_singular = [\"picks_bans\",\n",
        "\"chat\",\n",
        "\"objectives\",\n",
        "\"radiant_gold_adv\",\n",
        "\"radiant_xp_adv\",\n",
        "\"teamfights\",\n",
        "\"draft_timings\"]"
      ],
      "metadata": {
        "id": "_26dRftj1NFH"
      },
      "execution_count": 25,
      "outputs": []
    },
    {
      "cell_type": "code",
      "source": [
        "df = pd.DataFrame()\n",
        "for match in matches_weu:\n",
        "\n",
        "  filtered = {key: match[key] for key in match.keys() if key not in non_singular}\n",
        "  curr_df = pd.DataFrame(filtered)\n",
        "  df = pd.concat([df, curr_df])\n",
        "\n",
        "df = df.reset_index(drop = True)"
      ],
      "metadata": {
        "id": "tj6RgIAS2TBv"
      },
      "execution_count": 29,
      "outputs": []
    },
    {
      "cell_type": "code",
      "source": [
        "df.head()"
      ],
      "metadata": {
        "colab": {
          "base_uri": "https://localhost:8080/",
          "height": 300
        },
        "id": "uO7p5kwX4tLW",
        "outputId": "fc735849-88e7-4bd9-985a-8d139b32898c"
      },
      "execution_count": 34,
      "outputs": [
        {
          "output_type": "execute_result",
          "data": {
            "text/plain": [
              "     match_id  match_seq_num  radiant_win  start_time  duration  \\\n",
              "0  6630051185     5541764198         True  1655905863      1706   \n",
              "1  6630051185     5541764198         True  1655905863      1706   \n",
              "2  6630051185     5541764198         True  1655905863      1706   \n",
              "3  6630051185     5541764198         True  1655905863      1706   \n",
              "4  6630051185     5541764198         True  1655905863      1706   \n",
              "\n",
              "   tower_status_radiant  tower_status_dire  barracks_status_radiant  \\\n",
              "0                  2039               1540                       63   \n",
              "1                  2039               1540                       63   \n",
              "2                  2039               1540                       63   \n",
              "3                  2039               1540                       63   \n",
              "4                  2039               1540                       63   \n",
              "\n",
              "   barracks_status_dire  cluster  ...  radiant_team_complete  \\\n",
              "0                    63      273  ...                      1   \n",
              "1                    63      273  ...                      1   \n",
              "2                    63      273  ...                      1   \n",
              "3                    63      273  ...                      1   \n",
              "4                    63      273  ...                      1   \n",
              "\n",
              "   dire_team_complete  radiant_captain  dire_captain  version  cosmetics  \\\n",
              "0                   1        183719386     116934015       21          1   \n",
              "1                   1        183719386     116934015       21        132   \n",
              "2                   1        183719386     116934015       21          1   \n",
              "3                   1        183719386     116934015       21        129   \n",
              "4                   1        183719386     116934015       21          4   \n",
              "\n",
              "   radiant_score  dire_score  series_id  series_type  \n",
              "0             30           6     679233            1  \n",
              "1             30           6     679233            1  \n",
              "2             30           6     679233            1  \n",
              "3             30           6     679233            1  \n",
              "4             30           6     679233            1  \n",
              "\n",
              "[5 rows x 32 columns]"
            ],
            "text/html": [
              "\n",
              "  <div id=\"df-7d467a64-c8e0-4ca9-83f6-533c8afb97f3\">\n",
              "    <div class=\"colab-df-container\">\n",
              "      <div>\n",
              "<style scoped>\n",
              "    .dataframe tbody tr th:only-of-type {\n",
              "        vertical-align: middle;\n",
              "    }\n",
              "\n",
              "    .dataframe tbody tr th {\n",
              "        vertical-align: top;\n",
              "    }\n",
              "\n",
              "    .dataframe thead th {\n",
              "        text-align: right;\n",
              "    }\n",
              "</style>\n",
              "<table border=\"1\" class=\"dataframe\">\n",
              "  <thead>\n",
              "    <tr style=\"text-align: right;\">\n",
              "      <th></th>\n",
              "      <th>match_id</th>\n",
              "      <th>match_seq_num</th>\n",
              "      <th>radiant_win</th>\n",
              "      <th>start_time</th>\n",
              "      <th>duration</th>\n",
              "      <th>tower_status_radiant</th>\n",
              "      <th>tower_status_dire</th>\n",
              "      <th>barracks_status_radiant</th>\n",
              "      <th>barracks_status_dire</th>\n",
              "      <th>cluster</th>\n",
              "      <th>...</th>\n",
              "      <th>radiant_team_complete</th>\n",
              "      <th>dire_team_complete</th>\n",
              "      <th>radiant_captain</th>\n",
              "      <th>dire_captain</th>\n",
              "      <th>version</th>\n",
              "      <th>cosmetics</th>\n",
              "      <th>radiant_score</th>\n",
              "      <th>dire_score</th>\n",
              "      <th>series_id</th>\n",
              "      <th>series_type</th>\n",
              "    </tr>\n",
              "  </thead>\n",
              "  <tbody>\n",
              "    <tr>\n",
              "      <th>0</th>\n",
              "      <td>6630051185</td>\n",
              "      <td>5541764198</td>\n",
              "      <td>True</td>\n",
              "      <td>1655905863</td>\n",
              "      <td>1706</td>\n",
              "      <td>2039</td>\n",
              "      <td>1540</td>\n",
              "      <td>63</td>\n",
              "      <td>63</td>\n",
              "      <td>273</td>\n",
              "      <td>...</td>\n",
              "      <td>1</td>\n",
              "      <td>1</td>\n",
              "      <td>183719386</td>\n",
              "      <td>116934015</td>\n",
              "      <td>21</td>\n",
              "      <td>1</td>\n",
              "      <td>30</td>\n",
              "      <td>6</td>\n",
              "      <td>679233</td>\n",
              "      <td>1</td>\n",
              "    </tr>\n",
              "    <tr>\n",
              "      <th>1</th>\n",
              "      <td>6630051185</td>\n",
              "      <td>5541764198</td>\n",
              "      <td>True</td>\n",
              "      <td>1655905863</td>\n",
              "      <td>1706</td>\n",
              "      <td>2039</td>\n",
              "      <td>1540</td>\n",
              "      <td>63</td>\n",
              "      <td>63</td>\n",
              "      <td>273</td>\n",
              "      <td>...</td>\n",
              "      <td>1</td>\n",
              "      <td>1</td>\n",
              "      <td>183719386</td>\n",
              "      <td>116934015</td>\n",
              "      <td>21</td>\n",
              "      <td>132</td>\n",
              "      <td>30</td>\n",
              "      <td>6</td>\n",
              "      <td>679233</td>\n",
              "      <td>1</td>\n",
              "    </tr>\n",
              "    <tr>\n",
              "      <th>2</th>\n",
              "      <td>6630051185</td>\n",
              "      <td>5541764198</td>\n",
              "      <td>True</td>\n",
              "      <td>1655905863</td>\n",
              "      <td>1706</td>\n",
              "      <td>2039</td>\n",
              "      <td>1540</td>\n",
              "      <td>63</td>\n",
              "      <td>63</td>\n",
              "      <td>273</td>\n",
              "      <td>...</td>\n",
              "      <td>1</td>\n",
              "      <td>1</td>\n",
              "      <td>183719386</td>\n",
              "      <td>116934015</td>\n",
              "      <td>21</td>\n",
              "      <td>1</td>\n",
              "      <td>30</td>\n",
              "      <td>6</td>\n",
              "      <td>679233</td>\n",
              "      <td>1</td>\n",
              "    </tr>\n",
              "    <tr>\n",
              "      <th>3</th>\n",
              "      <td>6630051185</td>\n",
              "      <td>5541764198</td>\n",
              "      <td>True</td>\n",
              "      <td>1655905863</td>\n",
              "      <td>1706</td>\n",
              "      <td>2039</td>\n",
              "      <td>1540</td>\n",
              "      <td>63</td>\n",
              "      <td>63</td>\n",
              "      <td>273</td>\n",
              "      <td>...</td>\n",
              "      <td>1</td>\n",
              "      <td>1</td>\n",
              "      <td>183719386</td>\n",
              "      <td>116934015</td>\n",
              "      <td>21</td>\n",
              "      <td>129</td>\n",
              "      <td>30</td>\n",
              "      <td>6</td>\n",
              "      <td>679233</td>\n",
              "      <td>1</td>\n",
              "    </tr>\n",
              "    <tr>\n",
              "      <th>4</th>\n",
              "      <td>6630051185</td>\n",
              "      <td>5541764198</td>\n",
              "      <td>True</td>\n",
              "      <td>1655905863</td>\n",
              "      <td>1706</td>\n",
              "      <td>2039</td>\n",
              "      <td>1540</td>\n",
              "      <td>63</td>\n",
              "      <td>63</td>\n",
              "      <td>273</td>\n",
              "      <td>...</td>\n",
              "      <td>1</td>\n",
              "      <td>1</td>\n",
              "      <td>183719386</td>\n",
              "      <td>116934015</td>\n",
              "      <td>21</td>\n",
              "      <td>4</td>\n",
              "      <td>30</td>\n",
              "      <td>6</td>\n",
              "      <td>679233</td>\n",
              "      <td>1</td>\n",
              "    </tr>\n",
              "  </tbody>\n",
              "</table>\n",
              "<p>5 rows × 32 columns</p>\n",
              "</div>\n",
              "      <button class=\"colab-df-convert\" onclick=\"convertToInteractive('df-7d467a64-c8e0-4ca9-83f6-533c8afb97f3')\"\n",
              "              title=\"Convert this dataframe to an interactive table.\"\n",
              "              style=\"display:none;\">\n",
              "        \n",
              "  <svg xmlns=\"http://www.w3.org/2000/svg\" height=\"24px\"viewBox=\"0 0 24 24\"\n",
              "       width=\"24px\">\n",
              "    <path d=\"M0 0h24v24H0V0z\" fill=\"none\"/>\n",
              "    <path d=\"M18.56 5.44l.94 2.06.94-2.06 2.06-.94-2.06-.94-.94-2.06-.94 2.06-2.06.94zm-11 1L8.5 8.5l.94-2.06 2.06-.94-2.06-.94L8.5 2.5l-.94 2.06-2.06.94zm10 10l.94 2.06.94-2.06 2.06-.94-2.06-.94-.94-2.06-.94 2.06-2.06.94z\"/><path d=\"M17.41 7.96l-1.37-1.37c-.4-.4-.92-.59-1.43-.59-.52 0-1.04.2-1.43.59L10.3 9.45l-7.72 7.72c-.78.78-.78 2.05 0 2.83L4 21.41c.39.39.9.59 1.41.59.51 0 1.02-.2 1.41-.59l7.78-7.78 2.81-2.81c.8-.78.8-2.07 0-2.86zM5.41 20L4 18.59l7.72-7.72 1.47 1.35L5.41 20z\"/>\n",
              "  </svg>\n",
              "      </button>\n",
              "      \n",
              "  <style>\n",
              "    .colab-df-container {\n",
              "      display:flex;\n",
              "      flex-wrap:wrap;\n",
              "      gap: 12px;\n",
              "    }\n",
              "\n",
              "    .colab-df-convert {\n",
              "      background-color: #E8F0FE;\n",
              "      border: none;\n",
              "      border-radius: 50%;\n",
              "      cursor: pointer;\n",
              "      display: none;\n",
              "      fill: #1967D2;\n",
              "      height: 32px;\n",
              "      padding: 0 0 0 0;\n",
              "      width: 32px;\n",
              "    }\n",
              "\n",
              "    .colab-df-convert:hover {\n",
              "      background-color: #E2EBFA;\n",
              "      box-shadow: 0px 1px 2px rgba(60, 64, 67, 0.3), 0px 1px 3px 1px rgba(60, 64, 67, 0.15);\n",
              "      fill: #174EA6;\n",
              "    }\n",
              "\n",
              "    [theme=dark] .colab-df-convert {\n",
              "      background-color: #3B4455;\n",
              "      fill: #D2E3FC;\n",
              "    }\n",
              "\n",
              "    [theme=dark] .colab-df-convert:hover {\n",
              "      background-color: #434B5C;\n",
              "      box-shadow: 0px 1px 3px 1px rgba(0, 0, 0, 0.15);\n",
              "      filter: drop-shadow(0px 1px 2px rgba(0, 0, 0, 0.3));\n",
              "      fill: #FFFFFF;\n",
              "    }\n",
              "  </style>\n",
              "\n",
              "      <script>\n",
              "        const buttonEl =\n",
              "          document.querySelector('#df-7d467a64-c8e0-4ca9-83f6-533c8afb97f3 button.colab-df-convert');\n",
              "        buttonEl.style.display =\n",
              "          google.colab.kernel.accessAllowed ? 'block' : 'none';\n",
              "\n",
              "        async function convertToInteractive(key) {\n",
              "          const element = document.querySelector('#df-7d467a64-c8e0-4ca9-83f6-533c8afb97f3');\n",
              "          const dataTable =\n",
              "            await google.colab.kernel.invokeFunction('convertToInteractive',\n",
              "                                                     [key], {});\n",
              "          if (!dataTable) return;\n",
              "\n",
              "          const docLinkHtml = 'Like what you see? Visit the ' +\n",
              "            '<a target=\"_blank\" href=https://colab.research.google.com/notebooks/data_table.ipynb>data table notebook</a>'\n",
              "            + ' to learn more about interactive tables.';\n",
              "          element.innerHTML = '';\n",
              "          dataTable['output_type'] = 'display_data';\n",
              "          await google.colab.output.renderOutput(dataTable, element);\n",
              "          const docLink = document.createElement('div');\n",
              "          docLink.innerHTML = docLinkHtml;\n",
              "          element.appendChild(docLink);\n",
              "        }\n",
              "      </script>\n",
              "    </div>\n",
              "  </div>\n",
              "  "
            ]
          },
          "metadata": {},
          "execution_count": 34
        }
      ]
    },
    {
      "cell_type": "code",
      "source": [
        "df.columns"
      ],
      "metadata": {
        "colab": {
          "base_uri": "https://localhost:8080/"
        },
        "id": "MgkolpKl4xe2",
        "outputId": "3e6f2929-d62f-47f0-f712-cdb484993678"
      },
      "execution_count": 35,
      "outputs": [
        {
          "output_type": "execute_result",
          "data": {
            "text/plain": [
              "Index(['match_id', 'match_seq_num', 'radiant_win', 'start_time', 'duration',\n",
              "       'tower_status_radiant', 'tower_status_dire', 'barracks_status_radiant',\n",
              "       'barracks_status_dire', 'cluster', 'first_blood_time', 'lobby_type',\n",
              "       'human_players', 'leagueid', 'positive_votes', 'negative_votes',\n",
              "       'game_mode', 'engine', 'radiant_team_id', 'dire_team_id',\n",
              "       'radiant_team_name', 'dire_team_name', 'radiant_team_complete',\n",
              "       'dire_team_complete', 'radiant_captain', 'dire_captain', 'version',\n",
              "       'cosmetics', 'radiant_score', 'dire_score', 'series_id', 'series_type'],\n",
              "      dtype='object')"
            ]
          },
          "metadata": {},
          "execution_count": 35
        }
      ]
    },
    {
      "cell_type": "code",
      "source": [
        "matches_weu[0][\"objectives\"]"
      ],
      "metadata": {
        "colab": {
          "base_uri": "https://localhost:8080/"
        },
        "id": "xjT3_Tw25scG",
        "outputId": "a5c03341-9ed3-4f24-e503-e58899533d3f"
      },
      "execution_count": 38,
      "outputs": [
        {
          "output_type": "execute_result",
          "data": {
            "text/plain": [
              "[{'key': 5,\n",
              "  'player_slot': 4,\n",
              "  'slot': 4,\n",
              "  'time': 38,\n",
              "  'type': 'CHAT_MESSAGE_FIRSTBLOOD'},\n",
              " {'team': 1, 'time': 476, 'type': 'CHAT_MESSAGE_COURIER_LOST'},\n",
              " {'team': 3, 'time': 606, 'type': 'CHAT_MESSAGE_COURIER_LOST'},\n",
              " {'key': 'npc_dota_badguys_tower1_top',\n",
              "  'player_slot': 2,\n",
              "  'slot': 2,\n",
              "  'time': 654,\n",
              "  'type': 'building_kill',\n",
              "  'unit': 'npc_dota_hero_furion'},\n",
              " {'key': 'npc_dota_badguys_tower1_bot',\n",
              "  'player_slot': 2,\n",
              "  'slot': 2,\n",
              "  'time': 968,\n",
              "  'type': 'building_kill',\n",
              "  'unit': 'npc_dota_hero_furion'},\n",
              " {'key': 'npc_dota_badguys_tower1_mid',\n",
              "  'time': 1001,\n",
              "  'type': 'building_kill',\n",
              "  'unit': 'npc_dota_goodguys_siege'},\n",
              " {'team': 3, 'time': 1038, 'type': 'CHAT_MESSAGE_ROSHAN_KILL'},\n",
              " {'player_slot': 129, 'slot': 6, 'time': 1038, 'type': 'CHAT_MESSAGE_AEGIS'},\n",
              " {'team': 0, 'time': 1124, 'type': 'CHAT_MESSAGE_COURIER_LOST'},\n",
              " {'team': 0, 'time': 1130, 'type': 'CHAT_MESSAGE_COURIER_LOST'},\n",
              " {'key': 'npc_dota_goodguys_tower1_mid',\n",
              "  'player_slot': 132,\n",
              "  'slot': 9,\n",
              "  'time': 1130,\n",
              "  'type': 'building_kill',\n",
              "  'unit': 'npc_dota_hero_tusk'},\n",
              " {'key': 'npc_dota_badguys_tower2_mid',\n",
              "  'player_slot': 2,\n",
              "  'slot': 2,\n",
              "  'time': 1353,\n",
              "  'type': 'building_kill',\n",
              "  'unit': 'npc_dota_hero_furion'},\n",
              " {'key': 'npc_dota_badguys_tower2_top',\n",
              "  'player_slot': 2,\n",
              "  'slot': 2,\n",
              "  'time': 1440,\n",
              "  'type': 'building_kill',\n",
              "  'unit': 'npc_dota_hero_furion'},\n",
              " {'key': 'npc_dota_badguys_tower3_mid',\n",
              "  'player_slot': 2,\n",
              "  'slot': 2,\n",
              "  'time': 1524,\n",
              "  'type': 'building_kill',\n",
              "  'unit': 'npc_dota_hero_furion'},\n",
              " {'key': 'npc_dota_badguys_tower2_bot',\n",
              "  'time': 1557,\n",
              "  'type': 'building_kill',\n",
              "  'unit': 'npc_dota_creep_goodguys_ranged'},\n",
              " {'team': 2, 'time': 1695, 'type': 'CHAT_MESSAGE_ROSHAN_KILL'},\n",
              " {'player_slot': 0, 'slot': 0, 'time': 1695, 'type': 'CHAT_MESSAGE_AEGIS'},\n",
              " {'key': 'npc_dota_badguys_tower3_bot',\n",
              "  'player_slot': 2,\n",
              "  'slot': 2,\n",
              "  'time': 1699,\n",
              "  'type': 'building_kill',\n",
              "  'unit': 'npc_dota_hero_furion'},\n",
              " {'key': 'npc_dota_badguys_fort',\n",
              "  'time': 1707,\n",
              "  'type': 'building_kill',\n",
              "  'unit': 'dota_unknown'}]"
            ]
          },
          "metadata": {},
          "execution_count": 38
        }
      ]
    },
    {
      "cell_type": "code",
      "source": [
        ""
      ],
      "metadata": {
        "id": "ne2PviXA5vMn"
      },
      "execution_count": null,
      "outputs": []
    }
  ]
}